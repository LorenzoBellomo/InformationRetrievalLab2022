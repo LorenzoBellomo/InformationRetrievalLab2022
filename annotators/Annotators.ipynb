{
 "cells": [
  {
   "cell_type": "markdown",
   "id": "54c583c9",
   "metadata": {},
   "source": [
    "# TEXTUAL ANNOTATION"
   ]
  },
  {
   "cell_type": "code",
   "execution_count": 1,
   "id": "293521f6",
   "metadata": {},
   "outputs": [],
   "source": [
    "import requests\n",
    "import json"
   ]
  },
  {
   "cell_type": "code",
   "execution_count": 2,
   "id": "f87ec817",
   "metadata": {},
   "outputs": [],
   "source": [
    "TAGME_ENDPOINT = \"https://tagme.d4science.org/tagme/tag\"\n",
    "LANG = \"en\"\n",
    "with open(\"config.json\", 'r') as json_file:\n",
    "    config = json.load(json_file)\n",
    "    KEY = config['d4science_KEY']"
   ]
  },
  {
   "cell_type": "code",
   "execution_count": 3,
   "id": "225be2b4",
   "metadata": {},
   "outputs": [],
   "source": [
    "def query_tagme(text):\n",
    "    payload = {\"text\": text, \"gcube-token\": KEY, \"lang\": LANG}\n",
    "    r = requests.post(TAGME_ENDPOINT, payload)\n",
    "    if r.status_code != 200:\n",
    "        raise Exception(\"Error on text: {}\\n{}\".format(text, r.text))\n",
    "    return r.json()"
   ]
  },
  {
   "cell_type": "code",
   "execution_count": 4,
   "id": "c867c7b0",
   "metadata": {},
   "outputs": [
    {
     "data": {
      "text/plain": [
       "{'test': '5',\n",
       " 'annotations': [{'spot': 'Italy',\n",
       "   'start': 0,\n",
       "   'link_probability': 0.4437723457813263,\n",
       "   'rho': 0.4525856375694275,\n",
       "   'end': 5,\n",
       "   'id': 362466,\n",
       "   'title': 'Italy national football team'},\n",
       "  {'spot': 'will',\n",
       "   'start': 6,\n",
       "   'link_probability': 0.0036389119923114777,\n",
       "   'rho': 0.06729841977357864,\n",
       "   'end': 10,\n",
       "   'id': 32828260,\n",
       "   'title': 'Will (2011 film)'},\n",
       "  {'spot': '2022 world cup',\n",
       "   'start': 35,\n",
       "   'link_probability': 0.3492063581943512,\n",
       "   'rho': 0.3398236632347107,\n",
       "   'end': 49,\n",
       "   'id': 17742072,\n",
       "   'title': '2022 FIFA World Cup'}],\n",
       " 'time': 26,\n",
       " 'api': 'tag',\n",
       " 'lang': 'en',\n",
       " 'timestamp': '2022-11-25T11:56:03'}"
      ]
     },
     "execution_count": 4,
     "metadata": {},
     "output_type": "execute_result"
    }
   ],
   "source": [
    "resp = query_tagme(\"Italy will not be competing in the 2022 world cup\")\n",
    "resp"
   ]
  },
  {
   "cell_type": "markdown",
   "id": "008c21bd",
   "metadata": {},
   "source": [
    "## Handle longer texts / filtering noisy annotations"
   ]
  },
  {
   "cell_type": "code",
   "execution_count": 5,
   "id": "d39f92ab",
   "metadata": {},
   "outputs": [
    {
     "data": {
      "text/plain": [
       "'Leonardo da Vinci was an Italian Renaissance polymath whose areas of interest included invention, painting, sculpting, architecture, science, music, mathematics, engineering, literature, anatomy, geology, astronomy, botany, writing, history, and cartography. \\nHe has been variously called the father of palaeontology, ichnology, and architecture, and is widely considered one of the greatest painters of all time. Leonardo is revered for his technological ingenuity. He conceptualised flying machines, a type of armoured fighting vehicle, concentrated solar power, an adding machine, and the double hull.'"
      ]
     },
     "execution_count": 5,
     "metadata": {},
     "output_type": "execute_result"
    }
   ],
   "source": [
    "with open(\"Leonardo.txt\", 'r') as long_file:\n",
    "    text = long_file.read()\n",
    "text"
   ]
  },
  {
   "cell_type": "code",
   "execution_count": 6,
   "id": "de1b9f39",
   "metadata": {},
   "outputs": [],
   "source": [
    "def query_tagme(text, long_text=False):\n",
    "    payload = {\"text\": text, \"gcube-token\": KEY, \"lang\": LANG}\n",
    "    if long_text:\n",
    "        payload[\"long_text\"] = 5\n",
    "    r = requests.post(TAGME_ENDPOINT, payload)\n",
    "    if r.status_code != 200:\n",
    "        raise Exception(\"Error on text: {}\\n{}\".format(text, r.text))\n",
    "    return r.json()"
   ]
  },
  {
   "cell_type": "code",
   "execution_count": 7,
   "id": "41e8f3ab",
   "metadata": {},
   "outputs": [],
   "source": [
    "def get_tagme_entities(tagme_response, min_rho=0.3):\n",
    "    ann = tagme_response[\"annotations\"]\n",
    "    ann = [a for a in ann if a[\"rho\"] > min_rho]\n",
    "    return [a[\"title\"] for a in ann if \"title\" in a]"
   ]
  },
  {
   "cell_type": "code",
   "execution_count": 10,
   "id": "02b543b1",
   "metadata": {},
   "outputs": [
    {
     "name": "stdout",
     "output_type": "stream",
     "text": [
      "BEFORE FILTERING\n",
      "['Leonardo da Vinci', 'Leonardo da Vinci', 'Italian Renaissance', 'Polymath', 'Attention', 'Invention', 'Painting', 'Sculpture', 'Architecture', 'Science', 'Music and mathematics', 'Engineering', 'Literature', 'Anatomy', 'Geology', 'Astronomy', 'Botany', 'Writing', 'History', 'Cartography', 'Clergy', 'Paleontology', 'Ichnology', 'Architecture', 'Neoplatonism', 'Greatest!', 'Painting', 'Time (magazine)', 'Leonardo da Vinci', 'Canonization', 'Technology', 'Ingenuity', 'Concept', 'Flying Machines s.r.o.', 'Granite', 'Stellar classification', 'Armoured fighting vehicle', 'Concentrated solar power', 'Adding machine', 'Double hull']\n",
      "==========================================================\n",
      "AFTER FILTERING\n"
     ]
    },
    {
     "data": {
      "text/plain": [
       "['Leonardo da Vinci',\n",
       " 'Leonardo da Vinci',\n",
       " 'Italian Renaissance',\n",
       " 'Polymath',\n",
       " 'Music and mathematics',\n",
       " 'Geology',\n",
       " 'Astronomy',\n",
       " 'Botany',\n",
       " 'Cartography',\n",
       " 'Paleontology',\n",
       " 'Ichnology',\n",
       " 'Armoured fighting vehicle',\n",
       " 'Concentrated solar power',\n",
       " 'Adding machine']"
      ]
     },
     "execution_count": 10,
     "metadata": {},
     "output_type": "execute_result"
    }
   ],
   "source": [
    "print(\"BEFORE FILTERING\")\n",
    "resp = query_tagme(text, long_text=True)\n",
    "print([a[\"title\"] for a in resp['annotations'] if \"title\" in a])\n",
    "print(\"==========================================================\")\n",
    "print(\"AFTER FILTERING\")\n",
    "get_tagme_entities(resp)"
   ]
  },
  {
   "cell_type": "markdown",
   "id": "69ff61e1",
   "metadata": {},
   "source": [
    "# TRY OTHER ANNOTATORS: SWAT"
   ]
  },
  {
   "cell_type": "code",
   "execution_count": 11,
   "id": "08382a6e",
   "metadata": {},
   "outputs": [
    {
     "data": {
      "text/plain": [
       "[{'salience_class': 1.0,\n",
       "  'salience_score': 0.9471508264541626,\n",
       "  'spans': [{'end': 17, 'start': 0}, {'end': 422, 'start': 414}],\n",
       "  'wiki_id': 18079,\n",
       "  'wiki_title': 'Leonardo_da_Vinci'},\n",
       " {'salience_class': 1.0,\n",
       "  'salience_score': 0.5190669894218445,\n",
       "  'spans': [{'end': 32, 'start': 25}],\n",
       "  'wiki_id': 14532,\n",
       "  'wiki_title': 'Italy'},\n",
       " {'salience_class': 1.0,\n",
       "  'salience_score': 0.5682003498077393,\n",
       "  'spans': [{'end': 44, 'start': 33}],\n",
       "  'wiki_id': 25532,\n",
       "  'wiki_title': 'Renaissance'},\n",
       " {'salience_class': 0.0,\n",
       "  'salience_score': 0.4803982079029083,\n",
       "  'spans': [{'end': 65, 'start': 60}],\n",
       "  'wiki_id': 9630,\n",
       "  'wiki_title': 'Ecology'},\n",
       " {'salience_class': 0.0,\n",
       "  'salience_score': 0.35197311639785767,\n",
       "  'spans': [{'end': 77, 'start': 69}],\n",
       "  'wiki_id': 146738,\n",
       "  'wiki_title': 'Interest'},\n",
       " {'salience_class': 0.0,\n",
       "  'salience_score': 0.42167073488235474,\n",
       "  'spans': [{'end': 96, 'start': 87}],\n",
       "  'wiki_id': 44312,\n",
       "  'wiki_title': 'Invention'},\n",
       " {'salience_class': 1.0,\n",
       "  'salience_score': 0.6101479530334473,\n",
       "  'spans': [{'end': 106, 'start': 98}, {'end': 400, 'start': 392}],\n",
       "  'wiki_id': 18622193,\n",
       "  'wiki_title': 'Painting'},\n",
       " {'salience_class': 0.0,\n",
       "  'salience_score': 0.39483514428138733,\n",
       "  'spans': [{'end': 117, 'start': 108}],\n",
       "  'wiki_id': 26714,\n",
       "  'wiki_title': 'Sculpture'},\n",
       " {'salience_class': 0.0,\n",
       "  'salience_score': 0.4347767233848572,\n",
       "  'spans': [{'end': 131, 'start': 119}, {'end': 345, 'start': 333}],\n",
       "  'wiki_id': 21296224,\n",
       "  'wiki_title': 'Architecture'},\n",
       " {'salience_class': 0.0,\n",
       "  'salience_score': 0.1979953646659851,\n",
       "  'spans': [{'end': 140, 'start': 133}],\n",
       "  'wiki_id': 26700,\n",
       "  'wiki_title': 'Science'},\n",
       " {'salience_class': 0.0,\n",
       "  'salience_score': 0.29977622628211975,\n",
       "  'spans': [{'end': 147, 'start': 142}],\n",
       "  'wiki_id': 18839,\n",
       "  'wiki_title': 'Music'},\n",
       " {'salience_class': 0.0,\n",
       "  'salience_score': 0.20876313745975494,\n",
       "  'spans': [{'end': 160, 'start': 149}],\n",
       "  'wiki_id': 18831,\n",
       "  'wiki_title': 'Mathematics'},\n",
       " {'salience_class': 0.0,\n",
       "  'salience_score': 0.13533131778240204,\n",
       "  'spans': [{'end': 173, 'start': 162}],\n",
       "  'wiki_id': 9251,\n",
       "  'wiki_title': 'Engineering'},\n",
       " {'salience_class': 0.0,\n",
       "  'salience_score': 0.12278387695550919,\n",
       "  'spans': [{'end': 185, 'start': 175}],\n",
       "  'wiki_id': 18963870,\n",
       "  'wiki_title': 'Literature'},\n",
       " {'salience_class': 0.0,\n",
       "  'salience_score': 0.2288590520620346,\n",
       "  'spans': [{'end': 194, 'start': 187}],\n",
       "  'wiki_id': 674,\n",
       "  'wiki_title': 'Anatomy'},\n",
       " {'salience_class': 0.0,\n",
       "  'salience_score': 0.1072157695889473,\n",
       "  'spans': [{'end': 203, 'start': 196}],\n",
       "  'wiki_id': 12207,\n",
       "  'wiki_title': 'Geology'},\n",
       " {'salience_class': 0.0,\n",
       "  'salience_score': 0.09711673855781555,\n",
       "  'spans': [{'end': 214, 'start': 205}],\n",
       "  'wiki_id': 50650,\n",
       "  'wiki_title': 'Astronomy'},\n",
       " {'salience_class': 0.0,\n",
       "  'salience_score': 0.0810595229268074,\n",
       "  'spans': [{'end': 222, 'start': 216}],\n",
       "  'wiki_id': 4183,\n",
       "  'wiki_title': 'Botany'},\n",
       " {'salience_class': 0.0,\n",
       "  'salience_score': 0.0872930958867073,\n",
       "  'spans': [{'end': 231, 'start': 224}],\n",
       "  'wiki_id': 32977,\n",
       "  'wiki_title': 'Writing'},\n",
       " {'salience_class': 0.0,\n",
       "  'salience_score': 0.35921505093574524,\n",
       "  'spans': [{'end': 240, 'start': 233}, {'end': 412, 'start': 404}],\n",
       "  'wiki_id': 10772350,\n",
       "  'wiki_title': 'History'},\n",
       " {'salience_class': 0.0,\n",
       "  'salience_score': 0.07925435155630112,\n",
       "  'spans': [{'end': 257, 'start': 246}],\n",
       "  'wiki_id': 7294,\n",
       "  'wiki_title': 'Cartography'},\n",
       " {'salience_class': 0.0,\n",
       "  'salience_score': 0.056738633662462234,\n",
       "  'spans': [{'end': 299, 'start': 289}],\n",
       "  'wiki_id': 407127,\n",
       "  'wiki_title': 'God_the_Father'},\n",
       " {'salience_class': 0.0,\n",
       "  'salience_score': 0.0448526032269001,\n",
       "  'spans': [{'end': 316, 'start': 303}],\n",
       "  'wiki_id': 23084,\n",
       "  'wiki_title': 'Paleontology'},\n",
       " {'salience_class': 0.0,\n",
       "  'salience_score': 0.02578055113554001,\n",
       "  'spans': [{'end': 327, 'start': 318}],\n",
       "  'wiki_id': 349876,\n",
       "  'wiki_title': 'Ichnology'},\n",
       " {'salience_class': 0.0,\n",
       "  'salience_score': 0.04917886108160019,\n",
       "  'spans': [{'end': 465, 'start': 456}],\n",
       "  'wiki_id': 169548,\n",
       "  'wiki_title': 'Ingenuity'},\n",
       " {'salience_class': 0.0,\n",
       "  'salience_score': 0.21726885437965393,\n",
       "  'spans': [{'end': 500, 'start': 492}, {'end': 582, 'start': 575}],\n",
       "  'wiki_id': 51462,\n",
       "  'wiki_title': 'Machine'},\n",
       " {'salience_class': 0.0,\n",
       "  'salience_score': 0.043976280838251114,\n",
       "  'spans': [{'end': 508, 'start': 502}],\n",
       "  'wiki_id': 13088,\n",
       "  'wiki_title': 'Granite'},\n",
       " {'salience_class': 0.0,\n",
       "  'salience_score': 0.028993479907512665,\n",
       "  'spans': [{'end': 537, 'start': 512}],\n",
       "  'wiki_id': 2148,\n",
       "  'wiki_title': 'Armoured_fighting_vehicle'},\n",
       " {'salience_class': 0.0,\n",
       "  'salience_score': 0.04080243408679962,\n",
       "  'spans': [{'end': 563, 'start': 539}],\n",
       "  'wiki_id': 17805223,\n",
       "  'wiki_title': 'Concentrated_solar_power'},\n",
       " {'salience_class': 0.0,\n",
       "  'salience_score': 0.0403459370136261,\n",
       "  'spans': [{'end': 603, 'start': 588}],\n",
       "  'wiki_id': 2397350,\n",
       "  'wiki_title': 'Double_hull'}]"
      ]
     },
     "execution_count": 11,
     "metadata": {},
     "output_type": "execute_result"
    }
   ],
   "source": [
    "SWAT_ENDPOINT = \"https://swat.d4science.org/salience\"\n",
    "def query_swat(title, content):\n",
    "    document = json.dumps({\"title\": title, \"content\": content})\n",
    "    r = requests.post(SWAT_ENDPOINT, data = document, params={'gcube-token': KEY})\n",
    "    if r.status_code != 200:\n",
    "        raise Exception(\"Error on article titled: {}\\n{}\".format(title, r.text))\n",
    "    return r.json()[\"annotations\"]\n",
    "\n",
    "query_swat(\"Leonardo da Vinci\", text)"
   ]
  },
  {
   "cell_type": "markdown",
   "id": "564a5a82",
   "metadata": {},
   "source": [
    "# RELATEDNESS\n",
    "Ok but now that I have entities, how do I deal with them? I need to know which are similar and which are not"
   ]
  },
  {
   "cell_type": "code",
   "execution_count": 14,
   "id": "82829fed",
   "metadata": {},
   "outputs": [
    {
     "name": "stdout",
     "output_type": "stream",
     "text": [
      "[{'couple': 'Biology Biotechnology', 'rel': 0.6070536971092224}]\n",
      "[{'couple': 'Barack_Obama Biotechnology', 'rel': 0.23863035440444946}]\n"
     ]
    }
   ],
   "source": [
    "ENDPOINT_RELATEDNESS = \"https://tagme.d4science.org/tagme/rel\"\n",
    "def query_relatedness(e1, e2):\n",
    "    tt = e1.replace(\" \", \"_\") + \" \" + e2.replace(\" \", \"_\")\n",
    "    payload = {\"tt\": tt, \"gcube-token\": KEY, \"lang\": LANG}\n",
    "    r = requests.post(ENDPOINT_RELATEDNESS, payload)\n",
    "    if r.status_code != 200:\n",
    "        raise Exception(\"Error on relatedness computation: {}\\n{}\".format(tt, r.text))\n",
    "    return r.json()\n",
    "\n",
    "first = query_relatedness(\"Biology\", \"Biotechnology\")\n",
    "second = query_relatedness(\"Barack Obama\", \"Biotechnology\")\n",
    "print(first['result'])\n",
    "print(second['result'])"
   ]
  },
  {
   "cell_type": "markdown",
   "id": "59063527",
   "metadata": {},
   "source": [
    "# WIKIPEDIA2VEC\n",
    "Ok but I need to have relatedness of tens of thousands of items, I cannot rely on slow queries"
   ]
  },
  {
   "cell_type": "code",
   "execution_count": 15,
   "id": "fb9eab2c",
   "metadata": {},
   "outputs": [],
   "source": [
    "import json\n",
    "from wikipedia2vec import Wikipedia2Vec\n",
    "from sklearn.metrics.pairwise import cosine_similarity\n",
    "import numpy as np\n",
    "with open(\"config.json\", 'r') as json_file:\n",
    "    config = json.load(json_file)\n",
    "    MODEL_FILE = config[\"path_to_wiki2vec_model\"]\n",
    "\n",
    "wiki2vec = Wikipedia2Vec.load(MODEL_FILE)"
   ]
  },
  {
   "cell_type": "code",
   "execution_count": 16,
   "id": "c6c76002",
   "metadata": {},
   "outputs": [],
   "source": [
    "def get_entity_vector(e):\n",
    "    try:\n",
    "        emb = wiki2vec.get_entity_vector(e)\n",
    "    except:\n",
    "        raise Exception(\"Entity vector {} not found\\n\".format(e))\n",
    "    return emb\n",
    "\n",
    "def similarity(v1, v2):\n",
    "    x = np.array(v1).reshape(1,-1)\n",
    "    y = np.array(v2).reshape(1,-1)\n",
    "    return cosine_similarity(x, y)[0][0]"
   ]
  },
  {
   "cell_type": "code",
   "execution_count": 17,
   "id": "943b286a",
   "metadata": {},
   "outputs": [
    {
     "data": {
      "text/plain": [
       "('Barack Obama',\n",
       " memmap([-1.7208770e-01,  6.8366393e-02, -2.2114021e-01,  1.8625689e-01,\n",
       "         -1.6881050e-01, -1.0273114e+00, -1.7403726e-01,  6.5132761e-01,\n",
       "         -1.1579229e+00, -1.1234688e-02, -6.3258129e-01, -3.6312324e-01,\n",
       "          1.8983840e+00, -1.0301901e+00, -6.0025400e-01, -7.8052205e-01,\n",
       "          2.5215951e-01, -2.7664509e-01, -5.1084882e-01,  1.2842940e-01,\n",
       "          6.3571817e-01,  8.1280574e-02, -1.2716837e+00,  4.2106557e-01,\n",
       "         -2.0525175e-01,  9.8252594e-02,  1.3547261e-01, -5.7749820e-01,\n",
       "          2.9801649e-01,  1.4131395e+00, -7.3676556e-01, -1.0151949e+00,\n",
       "         -1.1703007e-01,  1.2873930e+00, -2.9190008e-02, -2.9518047e-01,\n",
       "          1.4377959e-01,  3.0795303e-01,  1.4484618e+00,  1.7310138e-01,\n",
       "          1.4899757e-03, -8.5064566e-01, -1.7244501e-01, -7.6880109e-01,\n",
       "         -9.8339975e-01,  3.2403290e-01, -6.4912087e-01,  3.7392426e-01,\n",
       "         -3.1706643e-01,  3.8999528e-01,  7.0731849e-03,  4.8704663e-01,\n",
       "          8.8876688e-01, -8.4579253e-01,  4.3871808e-01,  4.0680537e-01,\n",
       "         -1.6622459e+00, -1.3958409e-01, -7.4907917e-01, -4.6015662e-01,\n",
       "          1.0252564e+00,  6.1859900e-01, -1.0264760e+00,  1.1253888e-02,\n",
       "          1.4748510e+00, -1.0670326e+00, -1.4506657e+00,  9.2815667e-02,\n",
       "          6.0668534e-01,  5.6702320e-02,  5.8442976e-02,  2.4479965e-02,\n",
       "          3.2270652e-01, -4.6916559e-01, -6.3365918e-01, -5.8209294e-01,\n",
       "          9.4899368e-01, -2.4084625e-01, -1.0808723e+00, -5.6064343e-01,\n",
       "          6.3331157e-01, -9.5565569e-01,  2.8229371e-01, -2.6353934e-01,\n",
       "          2.9214889e-02, -7.8398116e-02,  2.2097924e-01,  3.7298155e-01,\n",
       "          1.0195505e-01, -2.8144988e-01,  6.0816568e-01,  4.0925273e-01,\n",
       "          2.2093943e-01, -3.7608457e-01,  1.7633964e-01,  8.1662679e-01,\n",
       "          9.8994994e-01,  6.9826591e-01,  1.3987473e+00,  8.2485056e-01],\n",
       "        dtype=float32))"
      ]
     },
     "execution_count": 17,
     "metadata": {},
     "output_type": "execute_result"
    }
   ],
   "source": [
    "v1 = (\"Barack Obama\", get_entity_vector(\"Barack Obama\"))\n",
    "v2 = (\"Biology\", get_entity_vector(\"Biology\"))\n",
    "v3 = (\"Biotechnology\", get_entity_vector(\"Biotechnology\"))\n",
    "v1"
   ]
  },
  {
   "cell_type": "code",
   "execution_count": 18,
   "id": "8b6dfbbb",
   "metadata": {},
   "outputs": [
    {
     "name": "stdout",
     "output_type": "stream",
     "text": [
      "======================================================================\n",
      "Cosine similarity between Barack Obama and Biology is 0.19\n",
      "Cosine similarity between Barack Obama and Biotechnology is 0.16\n",
      "Cosine similarity between Biology and Biotechnology is 0.52\n"
     ]
    }
   ],
   "source": [
    "print(\"======================================================================\")\n",
    "from itertools import combinations\n",
    "for x, y in combinations([v1, v2, v3], 2):\n",
    "    print(\"Cosine similarity between {} and {} is {:.2f}\".format(x[0], y[0], similarity(x[1], y[1])))"
   ]
  }
 ],
 "metadata": {
  "kernelspec": {
   "display_name": "Python 3.8.13 ('IR')",
   "language": "python",
   "name": "python3"
  },
  "language_info": {
   "codemirror_mode": {
    "name": "ipython",
    "version": 3
   },
   "file_extension": ".py",
   "mimetype": "text/x-python",
   "name": "python",
   "nbconvert_exporter": "python",
   "pygments_lexer": "ipython3",
   "version": "3.8.13"
  },
  "vscode": {
   "interpreter": {
    "hash": "c226b66ad212a3c8eabd6b6be3829f40d39277fa7bdc3bf63a77768ea80548ac"
   }
  }
 },
 "nbformat": 4,
 "nbformat_minor": 5
}
