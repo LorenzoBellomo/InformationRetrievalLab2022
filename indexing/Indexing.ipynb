{
 "cells": [
  {
   "cell_type": "markdown",
   "id": "0fdc103d",
   "metadata": {},
   "source": [
    "# Elastic Search hands on"
   ]
  },
  {
   "cell_type": "markdown",
   "id": "2c0eb589",
   "metadata": {},
   "source": [
    "In this lecture we will show how to create an Elastic Search Index and perform basic queries on it. \n",
    "We will also deal with fields"
   ]
  },
  {
   "cell_type": "code",
   "execution_count": 1,
   "id": "bddbca47",
   "metadata": {},
   "outputs": [],
   "source": [
    "from elasticsearch import Elasticsearch\n",
    "import json\n",
    "import os"
   ]
  },
  {
   "cell_type": "markdown",
   "id": "482ca24d",
   "metadata": {},
   "source": [
    "Create this config.json file, and fill it with all the fields that are shown in class"
   ]
  },
  {
   "cell_type": "code",
   "execution_count": 2,
   "id": "eb941e5f",
   "metadata": {},
   "outputs": [],
   "source": [
    "with open(\"config.json\", 'r') as config_file:\n",
    "    config = json.load(config_file)\n",
    "    INDEX_PORT = config['port']\n",
    "    INDEX_HOST = config['host']\n",
    "    INDEX_USER = config['username']\n",
    "    INDEX_PASS = config['psw']\n",
    "    INDEX_NAME = config['surname']\n",
    "    INDEX_URL = 'http://{}:{}/'.format(INDEX_HOST, INDEX_PORT)"
   ]
  },
  {
   "cell_type": "markdown",
   "id": "18885282",
   "metadata": {},
   "source": [
    "Create an elastic search index, deleting any previous one with the same NAME"
   ]
  },
  {
   "cell_type": "code",
   "execution_count": 3,
   "id": "e34ec0b7",
   "metadata": {},
   "outputs": [],
   "source": [
    "def index_create():\n",
    "    es = Elasticsearch(INDEX_URL, http_auth=(INDEX_USER, INDEX_PASS))\n",
    "    if es.indices.exists(index=INDEX_NAME):\n",
    "        es.indices.delete(index=INDEX_NAME)\n",
    "    es.indices.create(index=INDEX_NAME)\n",
    "    return es"
   ]
  },
  {
   "cell_type": "code",
   "execution_count": 4,
   "id": "21dd0b84",
   "metadata": {},
   "outputs": [],
   "source": [
    "def insert_text_examples(es):\n",
    "    docs = [\"Trump u.s.a. NATO\", \"trump usa N.A.T.O.\", \"the cat sleeps\"]\n",
    "    for line in docs:\n",
    "        document = {'line_content': line.strip()}\n",
    "        es.index(index=INDEX_NAME, body=document)"
   ]
  },
  {
   "cell_type": "code",
   "execution_count": 5,
   "id": "c2259dbd",
   "metadata": {},
   "outputs": [],
   "source": [
    "es = index_create()\n",
    "insert_text_examples(es)"
   ]
  },
  {
   "cell_type": "code",
   "execution_count": 6,
   "id": "49a2bb98",
   "metadata": {},
   "outputs": [
    {
     "name": "stdout",
     "output_type": "stream",
     "text": [
      "score: 0.4700036 - line: Trump u.s.a. NATO\n",
      "score: 0.4700036 - line: trump usa N.A.T.O.\n"
     ]
    }
   ],
   "source": [
    "input_query = input('Insert a query: ').strip()\n",
    "query_body = {'query': {'match': {'line_content': input_query}}}\n",
    "\n",
    "res = es.search(index=INDEX_NAME, body=query_body)\n",
    "for hit in res['hits']['hits']:\n",
    "    print('score: {} - line: {}'.format(hit['_score'], hit['_source']['line_content']))"
   ]
  },
  {
   "cell_type": "code",
   "execution_count": 7,
   "id": "230ec017",
   "metadata": {},
   "outputs": [
    {
     "name": "stdout",
     "output_type": "stream",
     "text": [
      "QUERY \"She is sleeping\":\n",
      "================================================================================\n",
      "QUERY \"I am sleeping\":\n",
      "================================================================================\n",
      "QUERY \"I live in the u.s.a.\":\n",
      "score: 0.9808291 - line: Trump u.s.a. NATO\n",
      "score: 0.9808291 - line: the cat sleeps\n",
      "================================================================================\n",
      "QUERY \"TRUMP\":\n",
      "score: 0.4700036 - line: Trump u.s.a. NATO\n",
      "score: 0.4700036 - line: trump usa N.A.T.O.\n",
      "================================================================================\n"
     ]
    }
   ],
   "source": [
    "def example_queries():\n",
    "    queries = [\"She is sleeping\", \"I am sleeping\", \"I live in the u.s.a.\", \"TRUMP\"]\n",
    "    for query in queries:\n",
    "        query_body = {'query': {'match': {'line_content': query.strip()}}}\n",
    "\n",
    "        res = es.search(index=INDEX_NAME, body=query_body)\n",
    "        print(\"QUERY \\\"{}\\\":\".format(query))\n",
    "        for hit in res['hits']['hits']:\n",
    "            print('score: {} - line: {}'.format(hit['_score'], hit['_source']['line_content']))\n",
    "        print(\"================================================================================\")\n",
    "            \n",
    "example_queries()"
   ]
  },
  {
   "cell_type": "markdown",
   "id": "ef182ec7",
   "metadata": {},
   "source": [
    "## Content Analyzer"
   ]
  },
  {
   "cell_type": "markdown",
   "id": "7aec5df3",
   "metadata": {},
   "source": [
    "In this section we will show how to add a text analyzer to the fields, and how it effects queries"
   ]
  },
  {
   "cell_type": "code",
   "execution_count": 8,
   "id": "6906c659",
   "metadata": {},
   "outputs": [
    {
     "data": {
      "text/plain": [
       "{'acknowledged': True}"
      ]
     },
     "execution_count": 8,
     "metadata": {},
     "output_type": "execute_result"
    }
   ],
   "source": [
    "es = index_create()\n",
    "mapping =  {\n",
    "    \"properties\": { \n",
    "        \"line_content\": {\n",
    "            \"type\": \"text\",\n",
    "            \"analyzer\": \"english\"\n",
    "        }      \n",
    "    }    \n",
    "}\n",
    "es.indices.put_mapping(index=INDEX_NAME, body=mapping)"
   ]
  },
  {
   "cell_type": "code",
   "execution_count": 9,
   "id": "cb77e4be",
   "metadata": {},
   "outputs": [],
   "source": [
    "insert_text_examples(es)"
   ]
  },
  {
   "cell_type": "code",
   "execution_count": 10,
   "id": "fa5ce223",
   "metadata": {},
   "outputs": [
    {
     "name": "stdout",
     "output_type": "stream",
     "text": [
      "score: 1.0925692 - line: the cat sleeps\n"
     ]
    }
   ],
   "source": [
    "input_query = input('Insert a query: ').strip()\n",
    "query_body = {'query': {'match': {'line_content': input_query}}}\n",
    "\n",
    "res = es.search(index=INDEX_NAME, body=query_body)\n",
    "for hit in res['hits']['hits']:\n",
    "    print('score: {} - line: {}'.format(hit['_score'], hit['_source']['line_content']))"
   ]
  },
  {
   "cell_type": "code",
   "execution_count": 11,
   "id": "717cc962",
   "metadata": {},
   "outputs": [
    {
     "name": "stdout",
     "output_type": "stream",
     "text": [
      "QUERY \"She is sleeping\":\n",
      "score: 1.0925692 - line: the cat sleeps\n",
      "================================================================================\n",
      "QUERY \"I am sleeping\":\n",
      "score: 1.0925692 - line: the cat sleeps\n",
      "================================================================================\n",
      "QUERY \"I live in the u.s.a.\":\n",
      "score: 0.9331132 - line: Trump u.s.a. NATO\n",
      "================================================================================\n",
      "QUERY \"TRUMP\":\n",
      "score: 0.4471386 - line: Trump u.s.a. NATO\n",
      "score: 0.4471386 - line: trump usa N.A.T.O.\n",
      "================================================================================\n"
     ]
    }
   ],
   "source": [
    "example_queries()"
   ]
  },
  {
   "cell_type": "markdown",
   "id": "40ac8cd3",
   "metadata": {},
   "source": [
    "## Basic Fields"
   ]
  },
  {
   "cell_type": "markdown",
   "id": "61ce3a27",
   "metadata": {},
   "source": [
    "In this section we will show how to add fields to our documents (in this case, the news source of the article)"
   ]
  },
  {
   "cell_type": "code",
   "execution_count": 12,
   "id": "8e799b7a",
   "metadata": {},
   "outputs": [
    {
     "data": {
      "text/plain": [
       "{'acknowledged': True}"
      ]
     },
     "execution_count": 12,
     "metadata": {},
     "output_type": "execute_result"
    }
   ],
   "source": [
    "es = index_create()\n",
    "mapping = {\n",
    "    \"properties\":{\n",
    "        \"maintext\": {\n",
    "            \"type\": \"text\",\n",
    "            \"analyzer\": \"english\"\n",
    "        },\n",
    "        \"source\": {\n",
    "            \"type\": \"text\",\n",
    "            \"analyzer\": \"whitespace\"\n",
    "        }      \n",
    "    }        \n",
    "}\n",
    "es.indices.put_mapping(index=INDEX_NAME, body=mapping)"
   ]
  },
  {
   "cell_type": "code",
   "execution_count": 13,
   "id": "ce775102",
   "metadata": {},
   "outputs": [],
   "source": [
    "dir = \"texts\"\n",
    "for filename in os.listdir(dir):\n",
    "    f = os.path.join(dir, filename)\n",
    "    with open(f, 'r') as article_file:\n",
    "        text = json.load(article_file)\n",
    "        document = {\"maintext\": text[\"maintext\"], \"source\": text[\"source\"]}\n",
    "        es.index(index=INDEX_NAME, body=document)"
   ]
  },
  {
   "cell_type": "markdown",
   "id": "96e9c1dd",
   "metadata": {},
   "source": [
    "unique sources: \"The New York Times\", \"The Herald-ir\"\n",
    "some words: \"Leclerc\", \"leclerc\", \"the\", \"aircraft\""
   ]
  },
  {
   "cell_type": "code",
   "execution_count": 14,
   "id": "3aadb737",
   "metadata": {},
   "outputs": [
    {
     "name": "stdout",
     "output_type": "stream",
     "text": [
      "Found 5 results.\n",
      "=====================================================================\n",
      "score: 1.425359 source: The Herald-ir\n",
      "body: Luke O'Reilly with his mother Janet O'Brien Luke O'Reilly Jack Hall Ellis The Metro One Bar in\n",
      "=====================================================================\n",
      "score: 1.0589126 source: The Herald-ir\n",
      "body: Charles Leclerc\n",
      "Charles Leclerc registered the maiden win of his Formula One career after romp\n",
      "=====================================================================\n",
      "score: 0.09337806 source: The Herald-ir\n",
      "body: Antonio Conte. Pic: PA\n",
      "Head coach Antonio Conte does not think Chelsea are in the race to sign\n",
      "=====================================================================\n",
      "score: 0.09337806 source: The Herald-ir\n",
      "body: Hamid Sanambar\n",
      "Gardai are hunting for a gunman who opened fire on a car in north Dublin - just\n",
      "=====================================================================\n",
      "score: 0.06836608 source: The New York Times\n",
      "body: The revival of supersonic passenger travel, thought to be long dead with the demise of Concord\n"
     ]
    }
   ],
   "source": [
    "source = input(\"Insert a news source: \").strip()\n",
    "terms = input(\"Insert text terms: \").strip()\n",
    "query_body = {\n",
    "    \"query\": {\n",
    "        \"bool\": {\n",
    "            \"should\": [{\"match\": {\"maintext\": terms}}, {\"match\": {\"source\" : source}}]\n",
    "            }      \n",
    "        }        \n",
    "    }\n",
    "res = es.search(index=INDEX_NAME, body=query_body)\n",
    "print (\"Found {} results.\".format(res['hits']['total']['value']))\n",
    "for hit in res['hits']['hits']:\n",
    "    print(\"=====================================================================\")\n",
    "    print (\"score: {} source: {}\".format(hit[\"_score\"], hit[\"_source\"][\"source\"]))\n",
    "    print (\"body: {}\".format(hit[\"_source\"][\"maintext\"])[:100])"
   ]
  },
  {
   "cell_type": "markdown",
   "id": "b18f5b0b",
   "metadata": {},
   "source": [
    "## Date Handling"
   ]
  },
  {
   "cell_type": "markdown",
   "id": "fc5fed14",
   "metadata": {},
   "source": [
    "In this section we will show how to deal with dates "
   ]
  },
  {
   "cell_type": "code",
   "execution_count": 15,
   "id": "ea164d14",
   "metadata": {},
   "outputs": [
    {
     "data": {
      "text/plain": [
       "{'acknowledged': True}"
      ]
     },
     "execution_count": 15,
     "metadata": {},
     "output_type": "execute_result"
    }
   ],
   "source": [
    "es = index_create()\n",
    "mapping = {\n",
    "    \"properties\":{\n",
    "        \"maintext\": {\n",
    "            \"type\": \"text\",\n",
    "            \"analyzer\": \"english\"\n",
    "        },\n",
    "        \"source\": {\n",
    "            \"type\": \"text\",\n",
    "            \"analyzer\": \"whitespace\"\n",
    "        },\n",
    "        \"pub-date\": {\n",
    "            \"type\": \"date\",\n",
    "             \"format\": \"yyyy-MM-dd\"\n",
    "        }\n",
    "    }        \n",
    "}\n",
    "es.indices.put_mapping(index=INDEX_NAME, body=mapping)"
   ]
  },
  {
   "cell_type": "code",
   "execution_count": 16,
   "id": "03818ba2",
   "metadata": {},
   "outputs": [],
   "source": [
    "dir = \"texts\"\n",
    "for filename in os.listdir(dir):\n",
    "    f = os.path.join(dir, filename)\n",
    "    with open(f, 'r') as article_file:\n",
    "        text = json.load(article_file)\n",
    "        document = {\"maintext\": text[\"maintext\"], \"source\": text[\"source\"], \"pub-date\": text[\"date\"]}\n",
    "        es.index(index=INDEX_NAME, body=document)"
   ]
  },
  {
   "cell_type": "code",
   "execution_count": 17,
   "id": "eb84c543",
   "metadata": {},
   "outputs": [
    {
     "name": "stdout",
     "output_type": "stream",
     "text": [
      "Found 4 results.\n",
      "score: 2.425359 source: The Herald-ir\n",
      "body: Luke O'Reilly with his mother Janet O'Brien Luke O'Reilly Jack Hall Ellis The Metro One Bar in\n",
      "score: 2.0589128 source: The Herald-ir\n",
      "body: Charles Leclerc\n",
      "Charles Leclerc registered the maiden win of his Formula One career after romp\n",
      "score: 1.0933781 source: The Herald-ir\n",
      "body: Antonio Conte. Pic: PA\n",
      "Head coach Antonio Conte does not think Chelsea are in the race to sign\n",
      "score: 1.0933781 source: The Herald-ir\n",
      "body: Hamid Sanambar\n",
      "Gardai are hunting for a gunman who opened fire on a car in north Dublin - just\n"
     ]
    }
   ],
   "source": [
    "source = input(\"Insert a news source: \").strip()\n",
    "terms = input(\"Insert text terms: \").strip()\n",
    "query_body = {\n",
    "    \"query\": {\n",
    "        \"bool\": {\n",
    "            \"should\": [{\"match\": {\"maintext\": terms}}, {\"match\": {\"source\": source}}],\n",
    "            \"minimum_should_match\": 1,\n",
    "            \"must\": [{\"range\": {\"pub-date\": {\"lt\":\"2022-01-01\"}}}]\n",
    "        }      \n",
    "    }        \n",
    "}\n",
    "\n",
    "res = es.search(index=INDEX_NAME, body=query_body)\n",
    "print (\"Found {} results.\".format(res['hits']['total']['value']))\n",
    "for hit in res['hits']['hits']:\n",
    "    print (\"score: {} source: {}\".format(hit[\"_score\"], hit[\"_source\"][\"source\"]))\n",
    "    print (\"body: {}\".format(hit[\"_source\"][\"maintext\"])[:100])"
   ]
  },
  {
   "cell_type": "markdown",
   "id": "7b133343",
   "metadata": {},
   "source": [
    "# Boosting Fields"
   ]
  },
  {
   "cell_type": "code",
   "execution_count": 18,
   "id": "f39d0d15",
   "metadata": {},
   "outputs": [
    {
     "name": "stdout",
     "output_type": "stream",
     "text": [
      "Found 5 results.\n",
      "=====================================================================\n",
      "score: 3.3360603 source: The New York Times\n",
      "body: The revival of supersonic passenger travel, thought to be long dead with the demise of Concord\n",
      "=====================================================================\n",
      "score: 1.425359 source: The Herald-ir\n",
      "body: Luke O'Reilly with his mother Janet O'Brien Luke O'Reilly Jack Hall Ellis The Metro One Bar in\n",
      "=====================================================================\n",
      "score: 1.0589126 source: The Herald-ir\n",
      "body: Charles Leclerc\n",
      "Charles Leclerc registered the maiden win of his Formula One career after romp\n",
      "=====================================================================\n",
      "score: 0.09337806 source: The Herald-ir\n",
      "body: Antonio Conte. Pic: PA\n",
      "Head coach Antonio Conte does not think Chelsea are in the race to sign\n",
      "=====================================================================\n",
      "score: 0.09337806 source: The Herald-ir\n",
      "body: Hamid Sanambar\n",
      "Gardai are hunting for a gunman who opened fire on a car in north Dublin - just\n",
      "\n",
      "\n",
      "Found 5 results.\n",
      "=====================================================================\n",
      "score: 10.008182 source: The New York Times\n",
      "body: The revival of supersonic passenger travel, thought to be long dead with the demise of Concord\n",
      "=====================================================================\n",
      "score: 1.6121151 source: The Herald-ir\n",
      "body: Luke O'Reilly with his mother Janet O'Brien Luke O'Reilly Jack Hall Ellis The Metro One Bar in\n",
      "=====================================================================\n",
      "score: 1.2456688 source: The Herald-ir\n",
      "body: Charles Leclerc\n",
      "Charles Leclerc registered the maiden win of his Formula One career after romp\n",
      "=====================================================================\n",
      "score: 0.28013417 source: The Herald-ir\n",
      "body: Antonio Conte. Pic: PA\n",
      "Head coach Antonio Conte does not think Chelsea are in the race to sign\n",
      "=====================================================================\n",
      "score: 0.28013417 source: The Herald-ir\n",
      "body: Hamid Sanambar\n",
      "Gardai are hunting for a gunman who opened fire on a car in north Dublin - just\n",
      "\n",
      "\n"
     ]
    }
   ],
   "source": [
    "source = input(\"Insert a news source: \").strip()\n",
    "terms = input(\"Insert text terms: \").strip()\n",
    "query_body = {\n",
    "    \"query\": {\n",
    "        \"bool\": {\n",
    "            \"should\": [\n",
    "                {\"match\": {\"maintext\": terms}}, \n",
    "                {\"match\": {\"source\" : source}}\n",
    "            ]\n",
    "        }      \n",
    "    }        \n",
    "}\n",
    "query_boosted = {\n",
    "    \"query\": {\n",
    "        \"bool\": {\n",
    "            \"should\": [\n",
    "                {\n",
    "                    \"match\": {\n",
    "                        \"source\": {\n",
    "                            \"query\": source,\n",
    "                            \"boost\": 3\n",
    "                        }\n",
    "                    }\n",
    "                },\n",
    "                {\n",
    "                    \"match\": {\n",
    "                        \"maintext\": {\n",
    "                            \"query\": terms,\n",
    "                        }\n",
    "                    }\n",
    "                },\n",
    "            ]\n",
    "        }\n",
    "    }\n",
    "}\n",
    "\n",
    "\n",
    "for body in [query_body, query_boosted]:\n",
    "    res = es.search(index=INDEX_NAME, body=body)\n",
    "    print (\"Found {} results.\".format(res['hits']['total']['value']))\n",
    "    for hit in res['hits']['hits']:\n",
    "        print(\"=====================================================================\")\n",
    "        print (\"score: {} source: {}\".format(hit[\"_score\"], hit[\"_source\"][\"source\"]))\n",
    "        print (\"body: {}\".format(hit[\"_source\"][\"maintext\"])[:100])\n",
    "    print(\"\\n\")"
   ]
  },
  {
   "cell_type": "markdown",
   "id": "d20ecb09",
   "metadata": {},
   "source": [
    "# Score description: Explain"
   ]
  },
  {
   "cell_type": "code",
   "execution_count": 21,
   "id": "a6325281",
   "metadata": {},
   "outputs": [
    {
     "data": {
      "text/plain": [
       "{'_index': 'bellomo',\n",
       " '_type': '_doc',\n",
       " '_id': 'gtRQroQBPTSChHKmZgmY',\n",
       " 'matched': True,\n",
       " 'explanation': {'value': 1.2456688,\n",
       "  'description': 'sum of:',\n",
       "  'details': [{'value': 0.28013417,\n",
       "    'description': 'sum of:',\n",
       "    'details': [{'value': 0.28013417,\n",
       "      'description': 'weight(source:The in 2) [PerFieldSimilarity], result of:',\n",
       "      'details': [{'value': 0.28013417,\n",
       "        'description': 'score(freq=1.0), computed as boost * idf * tf from:',\n",
       "        'details': [{'value': 6.6000004,\n",
       "          'description': 'boost',\n",
       "          'details': []},\n",
       "         {'value': 0.087011375,\n",
       "          'description': 'idf, computed as log(1 + (N - n + 0.5) / (n + 0.5)) from:',\n",
       "          'details': [{'value': 5,\n",
       "            'description': 'n, number of documents containing term',\n",
       "            'details': []},\n",
       "           {'value': 5,\n",
       "            'description': 'N, total number of documents with field',\n",
       "            'details': []}]},\n",
       "         {'value': 0.4878049,\n",
       "          'description': 'tf, computed as freq / (freq + k1 * (1 - b + b * dl / avgdl)) from:',\n",
       "          'details': [{'value': 1.0,\n",
       "            'description': 'freq, occurrences of term within document',\n",
       "            'details': []},\n",
       "           {'value': 1.2,\n",
       "            'description': 'k1, term saturation parameter',\n",
       "            'details': []},\n",
       "           {'value': 0.75,\n",
       "            'description': 'b, length normalization parameter',\n",
       "            'details': []},\n",
       "           {'value': 2.0, 'description': 'dl, length of field', 'details': []},\n",
       "           {'value': 2.4,\n",
       "            'description': 'avgdl, average length of field',\n",
       "            'details': []}]}]}]}]},\n",
       "   {'value': 0.9655346,\n",
       "    'description': 'weight(maintext:mother in 2) [PerFieldSimilarity], result of:',\n",
       "    'details': [{'value': 0.9655346,\n",
       "      'description': 'score(freq=1.0), computed as boost * idf * tf from:',\n",
       "      'details': [{'value': 2.2, 'description': 'boost', 'details': []},\n",
       "       {'value': 0.87546873,\n",
       "        'description': 'idf, computed as log(1 + (N - n + 0.5) / (n + 0.5)) from:',\n",
       "        'details': [{'value': 2,\n",
       "          'description': 'n, number of documents containing term',\n",
       "          'details': []},\n",
       "         {'value': 5,\n",
       "          'description': 'N, total number of documents with field',\n",
       "          'details': []}]},\n",
       "       {'value': 0.50130785,\n",
       "        'description': 'tf, computed as freq / (freq + k1 * (1 - b + b * dl / avgdl)) from:',\n",
       "        'details': [{'value': 1.0,\n",
       "          'description': 'freq, occurrences of term within document',\n",
       "          'details': []},\n",
       "         {'value': 1.2,\n",
       "          'description': 'k1, term saturation parameter',\n",
       "          'details': []},\n",
       "         {'value': 0.75,\n",
       "          'description': 'b, length normalization parameter',\n",
       "          'details': []},\n",
       "         {'value': 216.0,\n",
       "          'description': 'dl, length of field (approximate)',\n",
       "          'details': []},\n",
       "         {'value': 279.8,\n",
       "          'description': 'avgdl, average length of field',\n",
       "          'details': []}]}]}]}]}}"
      ]
     },
     "execution_count": 21,
     "metadata": {},
     "output_type": "execute_result"
    }
   ],
   "source": [
    "res = es.explain(id=\"gtRQroQBPTSChHKmZgmY\", index=INDEX_NAME, body=query_boosted)\n",
    "res"
   ]
  }
 ],
 "metadata": {
  "kernelspec": {
   "display_name": "Python 3.8.13 ('IR')",
   "language": "python",
   "name": "python3"
  },
  "language_info": {
   "codemirror_mode": {
    "name": "ipython",
    "version": 3
   },
   "file_extension": ".py",
   "mimetype": "text/x-python",
   "name": "python",
   "nbconvert_exporter": "python",
   "pygments_lexer": "ipython3",
   "version": "3.8.13"
  },
  "vscode": {
   "interpreter": {
    "hash": "c226b66ad212a3c8eabd6b6be3829f40d39277fa7bdc3bf63a77768ea80548ac"
   }
  }
 },
 "nbformat": 4,
 "nbformat_minor": 5
}
